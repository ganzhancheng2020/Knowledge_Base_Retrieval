{
 "cells": [
  {
   "cell_type": "code",
   "execution_count": 5,
   "id": "8503446c-e2ad-4e40-a343-78e458d6bbcd",
   "metadata": {
    "ExecutionIndicator": {
     "show": true
    },
    "execution": {
     "iopub.execute_input": "2024-11-02T16:03:04.831619Z",
     "iopub.status.busy": "2024-11-02T16:03:04.831260Z",
     "iopub.status.idle": "2024-11-02T16:03:04.849511Z",
     "shell.execute_reply": "2024-11-02T16:03:04.848971Z",
     "shell.execute_reply.started": "2024-11-02T16:03:04.831594Z"
    },
    "tags": []
   },
   "outputs": [],
   "source": [
    "from typing import Any\n",
    "from llama_index.core.llms import (\n",
    "    CustomLLM,\n",
    "    CompletionResponse,\n",
    "    CompletionResponseGen,\n",
    "    LLMMetadata,\n",
    ")\n",
    "from llama_index.core.llms.callbacks import llm_completion_callback\n",
    "from zhipuai import ZhipuAI\n",
    "from dotenv import dotenv_values\n",
    "from typing import ClassVar\n",
    "\n",
    "from loguru import logger\n",
    "logger.add(\"logs/app_{time:YYYY-MM-DD}.log\", level=\"INFO\", rotation=\"00:00\", retention=\"10 days\", compression=\"zip\")\n",
    "\n",
    "class GLM(CustomLLM):\n",
    "    config: dict = dotenv_values(\".env\")\n",
    "    glm_api_key: ClassVar[str] = config[\"glm_api_key\"]\n",
    "    temperature: float = 0.1\n",
    "    context_window: int = 3900\n",
    "    num_output: int = 1024\n",
    "    model_name: str = \"glm-4-plus\"\n",
    "\n",
    "    @property\n",
    "    def metadata(self) -> LLMMetadata:\n",
    "        \"\"\"Get LLM metadata.\"\"\"\n",
    "        return LLMMetadata(\n",
    "            context_window=self.context_window,\n",
    "            num_output=self.num_output,\n",
    "            model_name=self.model_name,\n",
    "        )\n",
    "\n",
    "    @llm_completion_callback()\n",
    "    def complete(self, prompt: str, **kwargs: Any) -> CompletionResponse:\n",
    "\n",
    "        try:\n",
    "            client = ZhipuAI(api_key=self.glm_api_key)\n",
    "            response = client.chat.completions.create(\n",
    "                model = self.model_name,\n",
    "                temperature = self.temperature,\n",
    "                messages=[\n",
    "                    {\"role\": \"user\", \"content\": prompt}\n",
    "                ],\n",
    "            )\n",
    "\n",
    "            content = response.choices[0].message.content\n",
    "            return CompletionResponse(text=content)\n",
    "        except Exception as e:\n",
    "            logger.error(f\"Processing: {prompt} An error occurred during completion: {e}\")\n",
    "            return CompletionResponse(text=\"\")\n",
    "\n",
    "    @llm_completion_callback()\n",
    "    def stream_complete(self, prompt: str, **kwargs: Any) -> CompletionResponseGen:\n",
    "        client = ZhipuAI(api_key=self.glm_api_key)\n",
    "        response = client.chat.completions.create(\n",
    "            model=self.model_name,\n",
    "            temperature = self.temperature,\n",
    "            messages=[\n",
    "                {\"role\": \"user\", \"content\": prompt},\n",
    "            ],\n",
    "            stream=True,\n",
    "        )\n",
    "        # 处理流式响应\n",
    "        for chunk in response:\n",
    "            delta = chunk.choices[0].delta  # 获取增量文本\n",
    "            yield delta  # 使用生成器返回增量文本"
   ]
  },
  {
   "cell_type": "code",
   "execution_count": 6,
   "id": "bba2157f-e242-40df-8e8a-775680ec31e6",
   "metadata": {
    "execution": {
     "iopub.execute_input": "2024-11-02T16:03:07.985449Z",
     "iopub.status.busy": "2024-11-02T16:03:07.985104Z",
     "iopub.status.idle": "2024-11-02T16:03:09.970902Z",
     "shell.execute_reply": "2024-11-02T16:03:09.970355Z",
     "shell.execute_reply.started": "2024-11-02T16:03:07.985424Z"
    },
    "tags": []
   },
   "outputs": [
    {
     "data": {
      "text/plain": [
       "CompletionResponse(text='你好👋！我是人工智能助手智谱清言（ChatGLM），很高兴见到你，欢迎问我任何问题。', additional_kwargs={}, raw=None, logprobs=None, delta=None)"
      ]
     },
     "execution_count": 6,
     "metadata": {},
     "output_type": "execute_result"
    }
   ],
   "source": [
    "GLM().complete(\"你好\")"
   ]
  }
 ],
 "metadata": {
  "kernelspec": {
   "display_name": "Python 3 (ipykernel)",
   "language": "python",
   "name": "python3"
  },
  "language_info": {
   "codemirror_mode": {
    "name": "ipython",
    "version": 3
   },
   "file_extension": ".py",
   "mimetype": "text/x-python",
   "name": "python",
   "nbconvert_exporter": "python",
   "pygments_lexer": "ipython3",
   "version": "3.10.14"
  }
 },
 "nbformat": 4,
 "nbformat_minor": 5
}
